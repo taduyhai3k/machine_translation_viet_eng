{
 "cells": [
  {
   "cell_type": "code",
   "execution_count": 1,
   "metadata": {},
   "outputs": [],
   "source": [
    "import pandas as pd\n",
    "import re\n",
    "import json\n",
    "import MyData as md\n",
    "import torch"
   ]
  },
  {
   "cell_type": "code",
   "execution_count": 2,
   "metadata": {},
   "outputs": [],
   "source": [
    "BOS = '<start>'\n",
    "EOS = '<end>'"
   ]
  },
  {
   "cell_type": "code",
   "execution_count": 3,
   "metadata": {},
   "outputs": [],
   "source": [
    "train = pd.read_json(path_or_buf= \"data/train.json\")\n",
    "test = pd.read_json(path_or_buf= \"data/test.json\")\n",
    "valid = pd.read_json(path_or_buf= \"data/valid.json\")"
   ]
  },
  {
   "cell_type": "code",
   "execution_count": 4,
   "metadata": {},
   "outputs": [],
   "source": [
    "def preprocess_sentence(w):\n",
    "    w = w.lower().strip()\n",
    "    w = re.sub(r\"([?.!,¿])\", r\" \\1 \", w)\n",
    "    w = re.sub(r'[\" \"]+', \" \", w)\n",
    "    w = w.strip()\n",
    "    # Add start and end token \n",
    "    w = '{} {} {}'.format(BOS, w, EOS)\n",
    "    return w"
   ]
  },
  {
   "cell_type": "code",
   "execution_count": 6,
   "metadata": {},
   "outputs": [],
   "source": [
    "data = md.EV_Data('data/train.json', 'vocab/vocab_E.json', 'vocab/vocab_V.json')"
   ]
  },
  {
   "cell_type": "code",
   "execution_count": 40,
   "metadata": {},
   "outputs": [],
   "source": [
    "a = torch.randn(size = [4,4], requires_grad = True, dtype = torch.float32)\n",
    "index = torch.ones(size = [4, 2,2], dtype= torch.int64)"
   ]
  },
  {
   "cell_type": "code",
   "execution_count": 41,
   "metadata": {},
   "outputs": [
    {
     "data": {
      "text/plain": [
       "tensor([[[-0.0881, -0.0881],\n",
       "         [-1.1430, -1.1430]],\n",
       "\n",
       "        [[-0.0881, -0.0881],\n",
       "         [-1.1430, -1.1430]],\n",
       "\n",
       "        [[-0.0881, -0.0881],\n",
       "         [-1.1430, -1.1430]],\n",
       "\n",
       "        [[-0.0881, -0.0881],\n",
       "         [-1.1430, -1.1430]]], grad_fn=<GatherBackward0>)"
      ]
     },
     "execution_count": 41,
     "metadata": {},
     "output_type": "execute_result"
    }
   ],
   "source": [
    "torch.gather(a.repeat(4,1,1), dim = -1, index = index)"
   ]
  }
 ],
 "metadata": {
  "kernelspec": {
   "display_name": "Python 3",
   "language": "python",
   "name": "python3"
  },
  "language_info": {
   "codemirror_mode": {
    "name": "ipython",
    "version": 3
   },
   "file_extension": ".py",
   "mimetype": "text/x-python",
   "name": "python",
   "nbconvert_exporter": "python",
   "pygments_lexer": "ipython3",
   "version": "3.9.0"
  }
 },
 "nbformat": 4,
 "nbformat_minor": 2
}
