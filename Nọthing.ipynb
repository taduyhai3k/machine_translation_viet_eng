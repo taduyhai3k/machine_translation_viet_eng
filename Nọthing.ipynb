{
 "cells": [
  {
   "cell_type": "code",
   "execution_count": 1,
   "metadata": {},
   "outputs": [],
   "source": [
    "import pandas as pd\n",
    "import re\n",
    "import json\n",
    "import MyData as md\n",
    "import torch\n",
    "from layer import InputEmbed as IE"
   ]
  },
  {
   "cell_type": "code",
   "execution_count": 73,
   "metadata": {},
   "outputs": [],
   "source": [
    "with open(\"vocab/vocab.json\", \"r\", encoding='utf-8') as file:\n",
    "    vocab = json.load(file)  \n",
    "my = md.MyTokenizer(vocab)"
   ]
  },
  {
   "cell_type": "code",
   "execution_count": 78,
   "metadata": {},
   "outputs": [
    {
     "data": {
      "text/plain": [
       "tensor([  1,   2,   3, 769, 134])"
      ]
     },
     "execution_count": 78,
     "metadata": {},
     "output_type": "execute_result"
    }
   ],
   "source": [
    "my.encode(\"en: I love you và tôi thích cậu\")[:5]"
   ]
  },
  {
   "cell_type": "code",
   "execution_count": 5,
   "metadata": {},
   "outputs": [],
   "source": [
    "BOS = '<start>'\n",
    "EOS = '<end>'\n",
    "en = \"en: \"\n",
    "vi = \"vi: \""
   ]
  },
  {
   "cell_type": "code",
   "execution_count": 2,
   "metadata": {},
   "outputs": [],
   "source": [
    "with open(\"data/train.json\", \"r\", encoding='utf-8') as file:\n",
    "    train = json.load(file)\n",
    "with open(\"data/test.json\", \"r\", encoding='utf-8') as file:\n",
    "    test = json.load(file)\n",
    "with open(\"data/valid.json\", \"r\", encoding='utf-8') as file:\n",
    "    valid = json.load(file)\n",
    "with open(\"data/train1.json\", \"r\", encoding='utf-8') as file:\n",
    "    train1 = json.load(file)\n",
    "with open(\"data/test1.json\", \"r\", encoding='utf-8') as file:\n",
    "    test1 = json.load(file)\n",
    "with open(\"data/valid1.json\", \"r\", encoding='utf-8') as file:\n",
    "    valid1 = json.load(file)    \n"
   ]
  },
  {
   "cell_type": "code",
   "execution_count": 3,
   "metadata": {},
   "outputs": [],
   "source": [
    "def preprocess_sentence(w):\n",
    "    w = w.lower().strip()\n",
    "    w = re.sub(r\"([?.!,¿])\", r\" \\1 \", w)\n",
    "    w = re.sub(r'[\" \"]+', \" \", w)\n",
    "    w = w.strip()\n",
    "    # Add start and end token \n",
    "    w = '{} {} {}'.format(BOS, w, EOS)\n",
    "    return w"
   ]
  },
  {
   "cell_type": "code",
   "execution_count": 16,
   "metadata": {},
   "outputs": [],
   "source": [
    "name = [train, test, valid]\n",
    "for my in name:\n",
    "    for i in range(len(my)):\n",
    "        my[i]['E'] = f\"{en}{my[i]['E']}\" \n",
    "        my[i]['V'] = f\"{vi}{my[i]['V']}\""
   ]
  },
  {
   "cell_type": "code",
   "execution_count": 25,
   "metadata": {},
   "outputs": [],
   "source": [
    "train = train + train1\n",
    "test = test + test1\n",
    "valid = valid + valid1\n"
   ]
  },
  {
   "cell_type": "code",
   "execution_count": 6,
   "metadata": {},
   "outputs": [],
   "source": [
    "name = [train1, test1, valid1]\n",
    "vocabE = {}\n",
    "vocabV = {}\n",
    "vocabE[' '] = 0\n",
    "vocabV[' '] = 0\n",
    "k = 1\n",
    "h = 1\n",
    "for my in name:\n",
    "    for i in range(len(my)):\n",
    "        e = preprocess_sentence(my[i]['E'])\n",
    "        v = preprocess_sentence(my[i]['V']) \n",
    "        for w in e.split(sep = ' '):\n",
    "            if w not in vocabE:\n",
    "                vocabE[w] = k\n",
    "                k = k+1\n",
    "        for w in v.split(sep = ' '):\n",
    "            if w not in vocabV:\n",
    "                vocabV[w] = h\n",
    "                h = h+1        "
   ]
  },
  {
   "cell_type": "code",
   "execution_count": 59,
   "metadata": {},
   "outputs": [],
   "source": [
    "with open('data/test1.json', 'w', encoding='utf-8') as f:\n",
    "    json.dump(test, f, ensure_ascii=False, indent=4)"
   ]
  },
  {
   "cell_type": "code",
   "execution_count": 54,
   "metadata": {},
   "outputs": [],
   "source": [
    "with open(\"vocab/vocab.json\", 'w', encoding='utf-8') as f:\n",
    "    json.dump(vocab, f, ensure_ascii=False, indent=4)"
   ]
  },
  {
   "cell_type": "code",
   "execution_count": 6,
   "metadata": {},
   "outputs": [],
   "source": [
    "data = md.EV_Data('data/train.json', 'vocab/vocab_E.json', 'vocab/vocab_V.json')"
   ]
  },
  {
   "cell_type": "code",
   "execution_count": 40,
   "metadata": {},
   "outputs": [],
   "source": [
    "a = torch.randn(size = [4,4], requires_grad = True, dtype = torch.float32)\n",
    "index = torch.ones(size = [4, 2,2], dtype= torch.int64)"
   ]
  },
  {
   "cell_type": "code",
   "execution_count": 41,
   "metadata": {},
   "outputs": [
    {
     "data": {
      "text/plain": [
       "tensor([[[-0.0881, -0.0881],\n",
       "         [-1.1430, -1.1430]],\n",
       "\n",
       "        [[-0.0881, -0.0881],\n",
       "         [-1.1430, -1.1430]],\n",
       "\n",
       "        [[-0.0881, -0.0881],\n",
       "         [-1.1430, -1.1430]],\n",
       "\n",
       "        [[-0.0881, -0.0881],\n",
       "         [-1.1430, -1.1430]]], grad_fn=<GatherBackward0>)"
      ]
     },
     "execution_count": 41,
     "metadata": {},
     "output_type": "execute_result"
    }
   ],
   "source": [
    "torch.gather(a.repeat(4,1,1), dim = -1, index = index)"
   ]
  }
 ],
 "metadata": {
  "kernelspec": {
   "display_name": "Python 3",
   "language": "python",
   "name": "python3"
  },
  "language_info": {
   "codemirror_mode": {
    "name": "ipython",
    "version": 3
   },
   "file_extension": ".py",
   "mimetype": "text/x-python",
   "name": "python",
   "nbconvert_exporter": "python",
   "pygments_lexer": "ipython3",
   "version": "3.9.0"
  }
 },
 "nbformat": 4,
 "nbformat_minor": 2
}
